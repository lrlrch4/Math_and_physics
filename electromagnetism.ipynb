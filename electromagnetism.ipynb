{
 "cells": [
  {
   "cell_type": "code",
   "execution_count": 71,
   "metadata": {},
   "outputs": [],
   "source": [
    "from sympy import*\n",
    "from mathtools import printex"
   ]
  },
  {
   "cell_type": "code",
   "execution_count": 72,
   "metadata": {},
   "outputs": [
    {
     "data": {
      "text/latex": [
       "$\\displaystyle \\left[\\begin{matrix}\\frac{x}{\\left(x^{2} + y^{2} + z^{2}\\right)^{\\frac{3}{2}}}\\\\\\frac{y}{\\left(x^{2} + y^{2} + z^{2}\\right)^{\\frac{3}{2}}}\\\\\\frac{z}{\\left(x^{2} + y^{2} + z^{2}\\right)^{\\frac{3}{2}}}\\end{matrix}\\right]$"
      ],
      "text/plain": [
       "Matrix([\n",
       "[x/(x**2 + y**2 + z**2)**(3/2)],\n",
       "[y/(x**2 + y**2 + z**2)**(3/2)],\n",
       "[z/(x**2 + y**2 + z**2)**(3/2)]])"
      ]
     },
     "execution_count": 72,
     "metadata": {},
     "output_type": "execute_result"
    }
   ],
   "source": [
    "x,y,z = symbols('x,y,z')\n",
    "r, th, phi = symbols('r,theta,phi')\n",
    "\n",
    "E =(x**2+y**2+z**2)**(-3/2)* Matrix([x,y,z])\n",
    "\n",
    "#E = (r)**(-3)* Matrix([r*sin(th)*cos(phi),r*sin(th)*sin(phi),r*cos(th)])\n",
    "\n",
    "nsimplify(E)"
   ]
  },
  {
   "cell_type": "code",
   "execution_count": 73,
   "metadata": {},
   "outputs": [
    {
     "data": {
      "text/latex": [
       "$\\displaystyle \\left[\\begin{matrix}1 & 0 & 0 & 0\\\\0 & \\sin{\\left(\\theta \\right)} \\cos{\\left(\\phi \\right)} & r \\cos{\\left(\\phi \\right)} \\cos{\\left(\\theta \\right)} & - r \\sin{\\left(\\phi \\right)} \\sin{\\left(\\theta \\right)}\\\\0 & \\sin{\\left(\\phi \\right)} \\sin{\\left(\\theta \\right)} & r \\sin{\\left(\\phi \\right)} \\cos{\\left(\\theta \\right)} & r \\sin{\\left(\\theta \\right)} \\cos{\\left(\\phi \\right)}\\\\0 & \\cos{\\left(\\theta \\right)} & - r \\sin{\\left(\\theta \\right)} & 0\\end{matrix}\\right]$"
      ],
      "text/plain": [
       "Matrix([\n",
       "[1,                   0,                     0,                      0],\n",
       "[0, sin(theta)*cos(phi), r*cos(phi)*cos(theta), -r*sin(phi)*sin(theta)],\n",
       "[0, sin(phi)*sin(theta), r*sin(phi)*cos(theta),  r*sin(theta)*cos(phi)],\n",
       "[0,          cos(theta),         -r*sin(theta),                      0]])"
      ]
     },
     "execution_count": 73,
     "metadata": {},
     "output_type": "execute_result"
    }
   ],
   "source": [
    "Px = Matrix(\n",
    "    [[1,0,0,0], \n",
    "    [0,sin(th)*cos(phi),sin(th)*sin(phi),cos(th)],\n",
    "    [0,r*cos(th)*cos(phi),r*cos(th)*sin(phi),-r*sin(th)],\n",
    "    [0,-r*sin(th)*sin(phi),r*sin(th)*cos(phi),0]]\n",
    "    ).T\n",
    "Px"
   ]
  },
  {
   "cell_type": "code",
   "execution_count": 74,
   "metadata": {},
   "outputs": [
    {
     "data": {
      "text/latex": [
       "$\\displaystyle \\left[\\begin{matrix}1 & 0 & 0 & 0\\\\0 & \\sin{\\left(\\theta \\right)} \\cos{\\left(\\phi \\right)} & \\sin{\\left(\\phi \\right)} \\sin{\\left(\\theta \\right)} & \\cos{\\left(\\theta \\right)}\\\\0 & \\frac{\\cos{\\left(\\phi \\right)} \\cos{\\left(\\theta \\right)}}{r} & \\frac{\\sin{\\left(\\phi \\right)} \\cos{\\left(\\theta \\right)}}{r} & - \\frac{\\sin{\\left(\\theta \\right)}}{r}\\\\0 & - \\frac{\\sin{\\left(\\phi \\right)}}{r \\sin{\\left(\\theta \\right)}} & \\frac{\\cos{\\left(\\phi \\right)}}{r \\sin{\\left(\\theta \\right)}} & 0\\end{matrix}\\right]$"
      ],
      "text/plain": [
       "Matrix([\n",
       "[1,                        0,                       0,             0],\n",
       "[0,      sin(theta)*cos(phi),     sin(phi)*sin(theta),    cos(theta)],\n",
       "[0,    cos(phi)*cos(theta)/r,   sin(phi)*cos(theta)/r, -sin(theta)/r],\n",
       "[0, -sin(phi)/(r*sin(theta)), cos(phi)/(r*sin(theta)),             0]])"
      ]
     },
     "execution_count": 74,
     "metadata": {},
     "output_type": "execute_result"
    }
   ],
   "source": [
    "Qx = Px**-1\n",
    "simplify(Qx)"
   ]
  },
  {
   "cell_type": "code",
   "execution_count": 75,
   "metadata": {},
   "outputs": [
    {
     "data": {
      "text/latex": [
       "$\\displaystyle \\left[\\begin{matrix}0 & - \\frac{x}{\\left(x^{2} + y^{2} + z^{2}\\right)^{1.5}} & - \\frac{y}{\\left(x^{2} + y^{2} + z^{2}\\right)^{1.5}} & - \\frac{z}{\\left(x^{2} + y^{2} + z^{2}\\right)^{1.5}}\\\\\\frac{x}{\\left(x^{2} + y^{2} + z^{2}\\right)^{1.5}} & 0 & 0 & 0\\\\\\frac{y}{\\left(x^{2} + y^{2} + z^{2}\\right)^{1.5}} & 0 & 0 & 0\\\\\\frac{z}{\\left(x^{2} + y^{2} + z^{2}\\right)^{1.5}} & 0 & 0 & 0\\end{matrix}\\right]$"
      ],
      "text/plain": [
       "Matrix([\n",
       "[                          0, -x/(x**2 + y**2 + z**2)**1.5, -y/(x**2 + y**2 + z**2)**1.5, -z/(x**2 + y**2 + z**2)**1.5],\n",
       "[x/(x**2 + y**2 + z**2)**1.5,                            0,                            0,                            0],\n",
       "[y/(x**2 + y**2 + z**2)**1.5,                            0,                            0,                            0],\n",
       "[z/(x**2 + y**2 + z**2)**1.5,                            0,                            0,                            0]])"
      ]
     },
     "execution_count": 75,
     "metadata": {},
     "output_type": "execute_result"
    }
   ],
   "source": [
    "F = Matrix([\n",
    "    [0,-E[0],-E[1],-E[2]],\n",
    "    [E[0],0,0,0],\n",
    "    [E[1],0,0,0],\n",
    "    [E[2],0,0,0]\n",
    "    ]\n",
    ")\n",
    "F"
   ]
  },
  {
   "cell_type": "code",
   "execution_count": 76,
   "metadata": {},
   "outputs": [
    {
     "data": {
      "text/latex": [
       "$\\displaystyle \\left[\\begin{matrix}0 & - \\frac{x \\sin{\\left(\\theta \\right)} \\cos{\\left(\\phi \\right)} + y \\sin{\\left(\\phi \\right)} \\sin{\\left(\\theta \\right)} + z \\cos{\\left(\\theta \\right)}}{\\left(x^{2} + y^{2} + z^{2}\\right)^{1.5}} & \\frac{- x \\cos{\\left(\\phi \\right)} \\cos{\\left(\\theta \\right)} - y \\sin{\\left(\\phi \\right)} \\cos{\\left(\\theta \\right)} + z \\sin{\\left(\\theta \\right)}}{r \\left(x^{2} + y^{2} + z^{2}\\right)^{1.5}} & \\frac{x \\sin{\\left(\\phi \\right)} - y \\cos{\\left(\\phi \\right)}}{r \\left(x^{2} + y^{2} + z^{2}\\right)^{1.5} \\sin{\\left(\\theta \\right)}}\\\\\\frac{x \\sin{\\left(\\theta \\right)} \\cos{\\left(\\phi \\right)} + y \\sin{\\left(\\phi \\right)} \\sin{\\left(\\theta \\right)} + z \\cos{\\left(\\theta \\right)}}{\\left(x^{2} + y^{2} + z^{2}\\right)^{1.5}} & 0 & 0 & 0\\\\\\frac{x \\cos{\\left(\\phi \\right)} \\cos{\\left(\\theta \\right)} + y \\sin{\\left(\\phi \\right)} \\cos{\\left(\\theta \\right)} - z \\sin{\\left(\\theta \\right)}}{r \\left(x^{2} + y^{2} + z^{2}\\right)^{1.5}} & 0 & 0 & 0\\\\\\frac{- x \\sin{\\left(\\phi \\right)} + y \\cos{\\left(\\phi \\right)}}{r \\left(x^{2} + y^{2} + z^{2}\\right)^{1.5} \\sin{\\left(\\theta \\right)}} & 0 & 0 & 0\\end{matrix}\\right]$"
      ],
      "text/plain": [
       "Matrix([\n",
       "[                                                                                           0, -(x*sin(theta)*cos(phi) + y*sin(phi)*sin(theta) + z*cos(theta))/(x**2 + y**2 + z**2)**1.5, (-x*cos(phi)*cos(theta) - y*sin(phi)*cos(theta) + z*sin(theta))/(r*(x**2 + y**2 + z**2)**1.5), (x*sin(phi) - y*cos(phi))/(r*(x**2 + y**2 + z**2)**1.5*sin(theta))],\n",
       "[    (x*sin(theta)*cos(phi) + y*sin(phi)*sin(theta) + z*cos(theta))/(x**2 + y**2 + z**2)**1.5,                                                                                         0,                                                                                             0,                                                                  0],\n",
       "[(x*cos(phi)*cos(theta) + y*sin(phi)*cos(theta) - z*sin(theta))/(r*(x**2 + y**2 + z**2)**1.5),                                                                                         0,                                                                                             0,                                                                  0],\n",
       "[                         (-x*sin(phi) + y*cos(phi))/(r*(x**2 + y**2 + z**2)**1.5*sin(theta)),                                                                                         0,                                                                                             0,                                                                  0]])"
      ]
     },
     "execution_count": 76,
     "metadata": {},
     "output_type": "execute_result"
    }
   ],
   "source": [
    "simplify(Qx*F*Qx.T)"
   ]
  },
  {
   "cell_type": "code",
   "execution_count": 77,
   "metadata": {},
   "outputs": [
    {
     "data": {
      "text/latex": [
       "$\\displaystyle \\left[\\begin{matrix}\\cosh{\\left(\\eta \\right)} & \\sinh{\\left(\\eta \\right)} & 0 & 0\\\\\\sinh{\\left(\\eta \\right)} & \\cosh{\\left(\\eta \\right)} & 0 & 0\\\\0 & 0 & 1 & 0\\\\0 & 0 & 0 & 1\\end{matrix}\\right]$"
      ],
      "text/plain": [
       "Matrix([\n",
       "[cosh(eta), sinh(eta), 0, 0],\n",
       "[sinh(eta), cosh(eta), 0, 0],\n",
       "[        0,         0, 1, 0],\n",
       "[        0,         0, 0, 1]])"
      ]
     },
     "execution_count": 77,
     "metadata": {},
     "output_type": "execute_result"
    }
   ],
   "source": [
    "eta = Symbol('eta')\n",
    "Pt = Matrix([\n",
    "    [cosh(eta),sinh(eta),0,0],\n",
    "    [sinh(eta),cosh(eta),0,0],\n",
    "    [0,0,1,0],\n",
    "    [0,0,0,1]\n",
    "    ]\n",
    ")\n",
    "\n",
    "Pt\n",
    "\n"
   ]
  },
  {
   "cell_type": "code",
   "execution_count": 78,
   "metadata": {},
   "outputs": [
    {
     "data": {
      "text/latex": [
       "$\\displaystyle \\left[\\begin{matrix}\\cosh{\\left(\\eta \\right)} & - \\sinh{\\left(\\eta \\right)} & 0 & 0\\\\- \\sinh{\\left(\\eta \\right)} & \\cosh{\\left(\\eta \\right)} & 0 & 0\\\\0 & 0 & 1 & 0\\\\0 & 0 & 0 & 1\\end{matrix}\\right]$"
      ],
      "text/plain": [
       "Matrix([\n",
       "[ cosh(eta), -sinh(eta), 0, 0],\n",
       "[-sinh(eta),  cosh(eta), 0, 0],\n",
       "[         0,          0, 1, 0],\n",
       "[         0,          0, 0, 1]])"
      ]
     },
     "execution_count": 78,
     "metadata": {},
     "output_type": "execute_result"
    }
   ],
   "source": [
    "Qt = simplify(Pt**-1)\n",
    "Qt"
   ]
  },
  {
   "cell_type": "code",
   "execution_count": 79,
   "metadata": {},
   "outputs": [
    {
     "data": {
      "text/latex": [
       "$\\displaystyle \\left[\\begin{matrix}0 & - \\frac{x}{\\left(x^{2} + y^{2} + z^{2}\\right)^{1.5}} & - \\frac{y \\cosh{\\left(\\eta \\right)}}{\\left(x^{2} + y^{2} + z^{2}\\right)^{1.5}} & - \\frac{z \\cosh{\\left(\\eta \\right)}}{\\left(x^{2} + y^{2} + z^{2}\\right)^{1.5}}\\\\\\frac{x}{\\left(x^{2} + y^{2} + z^{2}\\right)^{1.5}} & 0 & \\frac{y \\sinh{\\left(\\eta \\right)}}{\\left(x^{2} + y^{2} + z^{2}\\right)^{1.5}} & \\frac{z \\sinh{\\left(\\eta \\right)}}{\\left(x^{2} + y^{2} + z^{2}\\right)^{1.5}}\\\\\\frac{y \\cosh{\\left(\\eta \\right)}}{\\left(x^{2} + y^{2} + z^{2}\\right)^{1.5}} & - \\frac{y \\sinh{\\left(\\eta \\right)}}{\\left(x^{2} + y^{2} + z^{2}\\right)^{1.5}} & 0 & 0\\\\\\frac{z \\cosh{\\left(\\eta \\right)}}{\\left(x^{2} + y^{2} + z^{2}\\right)^{1.5}} & - \\frac{z \\sinh{\\left(\\eta \\right)}}{\\left(x^{2} + y^{2} + z^{2}\\right)^{1.5}} & 0 & 0\\end{matrix}\\right]$"
      ],
      "text/plain": [
       "Matrix([\n",
       "[                                    0,           -x/(x**2 + y**2 + z**2)**1.5, -y*cosh(eta)/(x**2 + y**2 + z**2)**1.5, -z*cosh(eta)/(x**2 + y**2 + z**2)**1.5],\n",
       "[          x/(x**2 + y**2 + z**2)**1.5,                                      0,  y*sinh(eta)/(x**2 + y**2 + z**2)**1.5,  z*sinh(eta)/(x**2 + y**2 + z**2)**1.5],\n",
       "[y*cosh(eta)/(x**2 + y**2 + z**2)**1.5, -y*sinh(eta)/(x**2 + y**2 + z**2)**1.5,                                      0,                                      0],\n",
       "[z*cosh(eta)/(x**2 + y**2 + z**2)**1.5, -z*sinh(eta)/(x**2 + y**2 + z**2)**1.5,                                      0,                                      0]])"
      ]
     },
     "execution_count": 79,
     "metadata": {},
     "output_type": "execute_result"
    }
   ],
   "source": [
    "F_= simplify(Qt*F*Qt.T)\n",
    "\n",
    "F_"
   ]
  },
  {
   "cell_type": "code",
   "execution_count": 80,
   "metadata": {},
   "outputs": [
    {
     "data": {
      "text/latex": [
       "$\\displaystyle \\left[\\begin{matrix}0 & - \\frac{x}{\\left(x^{2} + y^{2} + z^{2}\\right)^{1.5}} & - \\frac{y \\cosh{\\left(\\eta \\right)}}{\\left(x^{2} + y^{2} + z^{2}\\right)^{1.5}} & - \\frac{z \\cosh{\\left(\\eta \\right)}}{\\left(x^{2} + y^{2} + z^{2}\\right)^{1.5}}\\\\\\frac{x}{\\left(x^{2} + y^{2} + z^{2}\\right)^{1.5}} & 0 & \\frac{y \\sinh{\\left(\\eta \\right)}}{\\left(x^{2} + y^{2} + z^{2}\\right)^{1.5}} & \\frac{z \\sinh{\\left(\\eta \\right)}}{\\left(x^{2} + y^{2} + z^{2}\\right)^{1.5}}\\\\\\frac{y \\cosh{\\left(\\eta \\right)}}{\\left(x^{2} + y^{2} + z^{2}\\right)^{1.5}} & - \\frac{y \\sinh{\\left(\\eta \\right)}}{\\left(x^{2} + y^{2} + z^{2}\\right)^{1.5}} & 0 & 0\\\\\\frac{z \\cosh{\\left(\\eta \\right)}}{\\left(x^{2} + y^{2} + z^{2}\\right)^{1.5}} & - \\frac{z \\sinh{\\left(\\eta \\right)}}{\\left(x^{2} + y^{2} + z^{2}\\right)^{1.5}} & 0 & 0\\end{matrix}\\right]$"
      ],
      "text/plain": [
       "Matrix([\n",
       "[                                    0,           -x/(x**2 + y**2 + z**2)**1.5, -y*cosh(eta)/(x**2 + y**2 + z**2)**1.5, -z*cosh(eta)/(x**2 + y**2 + z**2)**1.5],\n",
       "[          x/(x**2 + y**2 + z**2)**1.5,                                      0,  y*sinh(eta)/(x**2 + y**2 + z**2)**1.5,  z*sinh(eta)/(x**2 + y**2 + z**2)**1.5],\n",
       "[y*cosh(eta)/(x**2 + y**2 + z**2)**1.5, -y*sinh(eta)/(x**2 + y**2 + z**2)**1.5,                                      0,                                      0],\n",
       "[z*cosh(eta)/(x**2 + y**2 + z**2)**1.5, -z*sinh(eta)/(x**2 + y**2 + z**2)**1.5,                                      0,                                      0]])"
      ]
     },
     "execution_count": 80,
     "metadata": {},
     "output_type": "execute_result"
    }
   ],
   "source": [
    "F_.subs({phi:pi/2,th : pi/2})"
   ]
  }
 ],
 "metadata": {
  "kernelspec": {
   "display_name": "Python 3",
   "language": "python",
   "name": "python3"
  },
  "language_info": {
   "codemirror_mode": {
    "name": "ipython",
    "version": 3
   },
   "file_extension": ".py",
   "mimetype": "text/x-python",
   "name": "python",
   "nbconvert_exporter": "python",
   "pygments_lexer": "ipython3",
   "version": "3.11.1"
  },
  "orig_nbformat": 4
 },
 "nbformat": 4,
 "nbformat_minor": 2
}
