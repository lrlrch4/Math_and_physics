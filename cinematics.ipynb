{
 "cells": [
  {
   "cell_type": "code",
   "execution_count": 3,
   "metadata": {},
   "outputs": [],
   "source": [
    "from sympy import *\n",
    "from mathtools import latex_printer"
   ]
  },
  {
   "cell_type": "code",
   "execution_count": 4,
   "metadata": {},
   "outputs": [],
   "source": [
    "t, v0, theta, y0, g = symbols('t, v_0, theta, y_0, g')"
   ]
  },
  {
   "cell_type": "code",
   "execution_count": 5,
   "metadata": {},
   "outputs": [],
   "source": [
    "a = Matrix([0,-g])"
   ]
  },
  {
   "cell_type": "code",
   "execution_count": 6,
   "metadata": {},
   "outputs": [
    {
     "data": {
      "text/latex": [
       "$\\displaystyle \\left[\\begin{matrix}v_{0} \\cos{\\left(\\theta \\right)}\\\\- g t + v_{0} \\sin{\\left(\\theta \\right)}\\end{matrix}\\right]$"
      ],
      "text/plain": [
       "Matrix([\n",
       "[       v_0*cos(theta)],\n",
       "[-g*t + v_0*sin(theta)]])"
      ]
     },
     "execution_count": 6,
     "metadata": {},
     "output_type": "execute_result"
    }
   ],
   "source": [
    "v = Matrix([v0*cos(theta), v0*sin(theta)-g*t])\n",
    "v"
   ]
  },
  {
   "cell_type": "code",
   "execution_count": 7,
   "metadata": {},
   "outputs": [
    {
     "data": {
      "text/latex": [
       "$\\displaystyle \\left[\\begin{matrix}t v_{0} \\cos{\\left(\\theta \\right)}\\\\- \\frac{g t^{2}}{2} + t v_{0} \\sin{\\left(\\theta \\right)} + y_{0}\\end{matrix}\\right]$"
      ],
      "text/plain": [
       "Matrix([\n",
       "[                  t*v_0*cos(theta)],\n",
       "[-g*t**2/2 + t*v_0*sin(theta) + y_0]])"
      ]
     },
     "execution_count": 7,
     "metadata": {},
     "output_type": "execute_result"
    }
   ],
   "source": [
    "r = Matrix([v0*cos(theta)*t, y0+ v0*sin(theta)*t-g*t**2/2 ])\n",
    "r"
   ]
  },
  {
   "cell_type": "code",
   "execution_count": 8,
   "metadata": {},
   "outputs": [
    {
     "data": {
      "text/latex": [
       "$\\displaystyle \\frac{v_{0} \\sin{\\left(\\theta \\right)} + \\sqrt{2 g y_{0} + v_{0}^{2} \\sin^{2}{\\left(\\theta \\right)}}}{g}$"
      ],
      "text/plain": [
       "(v_0*sin(theta) + sqrt(2*g*y_0 + v_0**2*sin(theta)**2))/g"
      ]
     },
     "execution_count": 8,
     "metadata": {},
     "output_type": "execute_result"
    }
   ],
   "source": [
    "tf = solve(r[1],t)[1]\n",
    "tf"
   ]
  },
  {
   "cell_type": "code",
   "execution_count": 9,
   "metadata": {},
   "outputs": [
    {
     "data": {
      "text/latex": [
       "$\\displaystyle \\frac{v_{0} \\left(v_{0} \\sin{\\left(\\theta \\right)} + \\sqrt{2 g y_{0} + v_{0}^{2} \\sin^{2}{\\left(\\theta \\right)}}\\right) \\cos{\\left(\\theta \\right)}}{g}$"
      ],
      "text/plain": [
       "v_0*(v_0*sin(theta) + sqrt(2*g*y_0 + v_0**2*sin(theta)**2))*cos(theta)/g"
      ]
     },
     "execution_count": 9,
     "metadata": {},
     "output_type": "execute_result"
    }
   ],
   "source": [
    "xf = simplify(r[0].subs({t: tf}))\n",
    "xf"
   ]
  },
  {
   "cell_type": "code",
   "execution_count": 10,
   "metadata": {},
   "outputs": [
    {
     "data": {
      "text/latex": [
       "$\\displaystyle \\frac{v_{0} \\sin{\\left(\\theta \\right)}}{g}$"
      ],
      "text/plain": [
       "v_0*sin(theta)/g"
      ]
     },
     "execution_count": 10,
     "metadata": {},
     "output_type": "execute_result"
    }
   ],
   "source": [
    "#time of maximum height\n",
    "th = v0*sin(theta)/g\n",
    "th"
   ]
  },
  {
   "cell_type": "code",
   "execution_count": 11,
   "metadata": {},
   "outputs": [
    {
     "data": {
      "text/latex": [
       "$\\displaystyle \\frac{v_{0}^{2} \\sin{\\left(2 \\theta \\right)}}{2 g}$"
      ],
      "text/plain": [
       "v_0**2*sin(2*theta)/(2*g)"
      ]
     },
     "execution_count": 11,
     "metadata": {},
     "output_type": "execute_result"
    }
   ],
   "source": [
    "xh = simplify(r[0].subs({t: th}))\n",
    "xh"
   ]
  },
  {
   "cell_type": "code",
   "execution_count": 12,
   "metadata": {},
   "outputs": [
    {
     "data": {
      "text/latex": [
       "$\\displaystyle y_{0} + \\frac{v_{0}^{2} \\sin^{2}{\\left(\\theta \\right)}}{2 g}$"
      ],
      "text/plain": [
       "y_0 + v_0**2*sin(theta)**2/(2*g)"
      ]
     },
     "execution_count": 12,
     "metadata": {},
     "output_type": "execute_result"
    }
   ],
   "source": [
    "yh = simplify(r[1].subs({t: th}))\n",
    "yh"
   ]
  },
  {
   "cell_type": "code",
   "execution_count": 14,
   "metadata": {},
   "outputs": [
    {
     "data": {
      "text/latex": [
       "$\\displaystyle \\Large y_h = $"
      ],
      "text/plain": [
       "<IPython.core.display.Math object>"
      ]
     },
     "metadata": {},
     "output_type": "display_data"
    },
    {
     "data": {
      "text/latex": [
       "$\\displaystyle \\Large y_{0} + \\frac{v_{0}^{2} \\sin^{2}{\\left(\\theta \\right)}}{2 g}$"
      ],
      "text/plain": [
       "<IPython.core.display.Math object>"
      ]
     },
     "metadata": {},
     "output_type": "display_data"
    },
    {
     "data": {
      "text/latex": [
       "$\\displaystyle \\Large \\frac{v_{0}^{2} \\sin{\\left(2 \\theta \\right)}}{2 g}$"
      ],
      "text/plain": [
       "<IPython.core.display.Math object>"
      ]
     },
     "metadata": {},
     "output_type": "display_data"
    }
   ],
   "source": [
    "latex_printer('y_h = ', [latex(yh), latex(xh)])"
   ]
  },
  {
   "cell_type": "code",
   "execution_count": null,
   "metadata": {},
   "outputs": [],
   "source": []
  }
 ],
 "metadata": {
  "kernelspec": {
   "display_name": "Python 3",
   "language": "python",
   "name": "python3"
  },
  "language_info": {
   "codemirror_mode": {
    "name": "ipython",
    "version": 3
   },
   "file_extension": ".py",
   "mimetype": "text/x-python",
   "name": "python",
   "nbconvert_exporter": "python",
   "pygments_lexer": "ipython3",
   "version": "3.11.1"
  }
 },
 "nbformat": 4,
 "nbformat_minor": 2
}
