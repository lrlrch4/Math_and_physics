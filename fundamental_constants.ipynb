{
 "cells": [
  {
   "cell_type": "code",
   "execution_count": 2,
   "metadata": {},
   "outputs": [],
   "source": [
    "from sympy import *\n",
    "from mathtools import printex\n",
    "import numpy as np"
   ]
  },
  {
   "cell_type": "code",
   "execution_count": 3,
   "metadata": {},
   "outputs": [],
   "source": [
    "#Constantes fundamentales\n",
    "c = 3*10**8\n",
    "h = 6.6260693 * 10**-34\n",
    "h_bar = 1.054571817* 10**-34\n",
    "G = 6.6742*10**-11\n",
    "N_Avogadro = 6.0221415*10**23\n",
    "\n",
    "m_electron = 9.1093897*10**-31 \n",
    "q_electron = 1.60217653*10**-19 #C\n",
    "\n",
    "eps_0 = 8.8541878176*10**-12  #permitividad eléctrica en el vacío\n",
    "mu_0 = 4*pi*10**-7\n",
    "k = 1/(4*np.pi*eps_0)\n",
    "kb = 1.380649*10**-23 #J/K\n",
    "\n",
    "#Constantes comunes (SI)\n",
    "R_tierra = 6.371*10**6\n",
    "M_tierra = 5.972*10**24\n",
    "\n",
    "R_sol = 6.957*10**8\n",
    "M_sol = 1.989*10**30\n",
    "\n",
    "R_luna = 1.7374*10**6\n",
    "M_luna = 7.349*10**22\n",
    "\n",
    "#Unidades comunes\n",
    "Uni_astro = 1.496*10**8 #m\n",
    "atm = 1.01*10**5 #Pa\n"
   ]
  },
  {
   "cell_type": "code",
   "execution_count": null,
   "metadata": {},
   "outputs": [],
   "source": []
  }
 ],
 "metadata": {
  "kernelspec": {
   "display_name": "Python 3",
   "language": "python",
   "name": "python3"
  },
  "language_info": {
   "codemirror_mode": {
    "name": "ipython",
    "version": 3
   },
   "file_extension": ".py",
   "mimetype": "text/x-python",
   "name": "python",
   "nbconvert_exporter": "python",
   "pygments_lexer": "ipython3",
   "version": "3.11.1"
  },
  "orig_nbformat": 4
 },
 "nbformat": 4,
 "nbformat_minor": 2
}
