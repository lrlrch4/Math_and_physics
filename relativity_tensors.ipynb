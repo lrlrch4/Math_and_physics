{
 "cells": [
  {
   "cell_type": "code",
   "execution_count": 59,
   "metadata": {},
   "outputs": [],
   "source": [
    "from sympy import *\n",
    "from IPython.display import Math\n",
    "from mathtools import printex"
   ]
  },
  {
   "cell_type": "code",
   "execution_count": 60,
   "metadata": {},
   "outputs": [
    {
     "data": {
      "text/latex": [
       "$\\displaystyle \\vec{r} _{([r, theta, phi])} = \\left[\\begin{matrix}x\\\\y\\end{matrix}\\right] = \\left[\\begin{matrix}r \\sin{\\left(\\theta \\right)} \\cos{\\left(\\phi \\right)}\\\\r \\sin{\\left(\\phi \\right)} \\sin{\\left(\\theta \\right)}\\\\r \\cos{\\left(\\theta \\right)}\\end{matrix}\\right]$"
      ],
      "text/plain": [
       "<IPython.core.display.Math object>"
      ]
     },
     "execution_count": 60,
     "metadata": {},
     "output_type": "execute_result"
    }
   ],
   "source": [
    "#Dimensión de la superficie n: \n",
    "n = 3\n",
    "#Surface:\n",
    "t = Symbol('t') \n",
    "u = Symbol('r')\n",
    "v = Symbol('theta')\n",
    "w = Symbol('phi')\n",
    "x = [u,v,w]\n",
    "\n",
    "S = nsimplify(Matrix([x[0]*sin(x[1])*cos(x[2]),x[0]*sin(x[1])*sin(x[2]), x[0]*cos(x[1])]))\n",
    "\n",
    "Math(r\"\\vec{r} \"+f\"_{{({x})}} = \"+latex(Matrix(['x','y']))+\" = \" + latex(S))"
   ]
  },
  {
   "cell_type": "code",
   "execution_count": 61,
   "metadata": {},
   "outputs": [
    {
     "data": {
      "text/latex": [
       "$\\displaystyle e_1 = \\left[\\begin{matrix}\\sin{\\left(\\theta \\right)} \\cos{\\left(\\phi \\right)}\\\\\\sin{\\left(\\phi \\right)} \\sin{\\left(\\theta \\right)}\\\\\\cos{\\left(\\theta \\right)}\\end{matrix}\\right] \\:\\:e_2 = \\left[\\begin{matrix}r \\cos{\\left(\\phi \\right)} \\cos{\\left(\\theta \\right)}\\\\r \\sin{\\left(\\phi \\right)} \\cos{\\left(\\theta \\right)}\\\\- r \\sin{\\left(\\theta \\right)}\\end{matrix}\\right] \\:\\:e_3 = \\left[\\begin{matrix}- r \\sin{\\left(\\phi \\right)} \\sin{\\left(\\theta \\right)}\\\\r \\sin{\\left(\\theta \\right)} \\cos{\\left(\\phi \\right)}\\\\0\\end{matrix}\\right] \\:\\:$"
      ],
      "text/plain": [
       "<IPython.core.display.Math object>"
      ]
     },
     "metadata": {},
     "output_type": "display_data"
    }
   ],
   "source": [
    "#Vectores bases de la superficie\n",
    "e=[]\n",
    "for i in range(n):\n",
    "    e.append(diff(S,x[i]))\n",
    "\n",
    "tex = ''\n",
    "for i in range(n):\n",
    "    tex += f\"e_{i+1} = \"+latex(e[i]) +\" \\:\\:\"\n",
    "\n",
    "display(Math(tex))\n"
   ]
  },
  {
   "cell_type": "code",
   "execution_count": 62,
   "metadata": {},
   "outputs": [
    {
     "data": {
      "text/latex": [
       "$\\displaystyle \\hat{\\rho} = \\left[\\begin{matrix}\\sin{\\left(\\theta \\right)} \\cos{\\left(\\phi \\right)}\\\\\\sin{\\left(\\phi \\right)} \\sin{\\left(\\theta \\right)}\\\\\\cos{\\left(\\theta \\right)}\\end{matrix}\\right]$"
      ],
      "text/plain": [
       "<IPython.core.display.Math object>"
      ]
     },
     "metadata": {},
     "output_type": "display_data"
    },
    {
     "data": {
      "text/latex": [
       "$\\displaystyle \\hat{\\theta} = \\left[\\begin{matrix}\\cos{\\left(\\phi \\right)} \\cos{\\left(\\theta \\right)}\\\\\\sin{\\left(\\phi \\right)} \\cos{\\left(\\theta \\right)}\\\\- \\sin{\\left(\\theta \\right)}\\end{matrix}\\right]$"
      ],
      "text/plain": [
       "<IPython.core.display.Math object>"
      ]
     },
     "metadata": {},
     "output_type": "display_data"
    },
    {
     "data": {
      "text/latex": [
       "$\\displaystyle \\hat{\\phi} = \\left[\\begin{matrix}- \\sin{\\left(\\phi \\right)}\\\\\\cos{\\left(\\phi \\right)}\\\\0\\end{matrix}\\right]$"
      ],
      "text/plain": [
       "<IPython.core.display.Math object>"
      ]
     },
     "metadata": {},
     "output_type": "display_data"
    }
   ],
   "source": [
    "rho = e[0]\n",
    "theta = e[1]/u\n",
    "phi = e[2]/(u*sin(x[1]))\n",
    "\n",
    "printex(r\"\\hat{\\rho} = \", rho)\n",
    "printex(r\"\\hat{\\theta} = \", theta)\n",
    "printex(r\"\\hat{\\phi} = \", phi)"
   ]
  },
  {
   "cell_type": "code",
   "execution_count": 63,
   "metadata": {},
   "outputs": [
    {
     "data": {
      "text/latex": [
       "$\\displaystyle \\left[\\begin{matrix}\\sin{\\left(\\theta \\right)} \\cos{\\left(\\phi \\right)} & r \\cos{\\left(\\phi \\right)} \\cos{\\left(\\theta \\right)} & - r \\sin{\\left(\\phi \\right)} \\sin{\\left(\\theta \\right)}\\\\\\sin{\\left(\\phi \\right)} \\sin{\\left(\\theta \\right)} & r \\sin{\\left(\\phi \\right)} \\cos{\\left(\\theta \\right)} & r \\sin{\\left(\\theta \\right)} \\cos{\\left(\\phi \\right)}\\\\\\cos{\\left(\\theta \\right)} & - r \\sin{\\left(\\theta \\right)} & 0\\end{matrix}\\right]$"
      ],
      "text/plain": [
       "Matrix([\n",
       "[sin(theta)*cos(phi), r*cos(phi)*cos(theta), -r*sin(phi)*sin(theta)],\n",
       "[sin(phi)*sin(theta), r*sin(phi)*cos(theta),  r*sin(theta)*cos(phi)],\n",
       "[         cos(theta),         -r*sin(theta),                      0]])"
      ]
     },
     "execution_count": 63,
     "metadata": {},
     "output_type": "execute_result"
    }
   ],
   "source": [
    "F = Matrix([[e[0],e[1],e[2]]])\n",
    "F"
   ]
  },
  {
   "cell_type": "code",
   "execution_count": 64,
   "metadata": {},
   "outputs": [
    {
     "data": {
      "text/latex": [
       "$\\displaystyle \\left[\\begin{matrix}\\sin{\\left(\\theta \\right)} \\cos{\\left(\\phi \\right)} & \\sin{\\left(\\phi \\right)} \\sin{\\left(\\theta \\right)} & \\cos{\\left(\\theta \\right)}\\\\\\frac{\\cos{\\left(\\phi \\right)} \\cos{\\left(\\theta \\right)}}{r} & \\frac{\\sin{\\left(\\phi \\right)} \\cos{\\left(\\theta \\right)}}{r} & - \\frac{\\sin{\\left(\\theta \\right)}}{r}\\\\- \\frac{\\sin{\\left(\\phi \\right)}}{r \\sin{\\left(\\theta \\right)}} & \\frac{\\cos{\\left(\\phi \\right)}}{r \\sin{\\left(\\theta \\right)}} & 0\\end{matrix}\\right]$"
      ],
      "text/plain": [
       "Matrix([\n",
       "[     sin(theta)*cos(phi),     sin(phi)*sin(theta),    cos(theta)],\n",
       "[   cos(phi)*cos(theta)/r,   sin(phi)*cos(theta)/r, -sin(theta)/r],\n",
       "[-sin(phi)/(r*sin(theta)), cos(phi)/(r*sin(theta)),             0]])"
      ]
     },
     "execution_count": 64,
     "metadata": {},
     "output_type": "execute_result"
    }
   ],
   "source": [
    "simplify(F**-1)"
   ]
  },
  {
   "cell_type": "code",
   "execution_count": 65,
   "metadata": {},
   "outputs": [
    {
     "data": {
      "text/latex": [
       "$\\displaystyle g = \\left[\\begin{matrix}R^{2} & 0\\\\0 & R^{2} \\sin^{2}{\\left(\\theta \\right)}\\end{matrix}\\right]$"
      ],
      "text/plain": [
       "<IPython.core.display.Math object>"
      ]
     },
     "metadata": {},
     "output_type": "display_data"
    }
   ],
   "source": [
    "#Métrica del espacio\n",
    "n = 2\n",
    "R = Symbol('R')\n",
    "u = Symbol('r')\n",
    "v = Symbol('theta')\n",
    "x = [u,v]\n",
    "g = [[0 for i in range(n)]for j in range(n)]\n",
    "\n",
    "g[0][0] = R**2\n",
    "g[0][1] = 0\n",
    "g[1][0] = 0\n",
    "g[1][1] = R**2 * (sin(v))**2\n",
    "\n",
    "display(\n",
    "    Math(  \n",
    "        \"g = \" + latex (Matrix(g))    \n",
    "        )   \n",
    "    )"
   ]
  },
  {
   "cell_type": "code",
   "execution_count": 66,
   "metadata": {},
   "outputs": [
    {
     "data": {
      "text/latex": [
       "$\\displaystyle g^{-1} = \\left[\\begin{matrix}\\frac{1}{R^{2}} & 0\\\\0 & \\frac{1}{R^{2} \\sin^{2}{\\left(\\theta \\right)}}\\end{matrix}\\right]$"
      ],
      "text/plain": [
       "<IPython.core.display.Math object>"
      ]
     },
     "metadata": {},
     "output_type": "display_data"
    }
   ],
   "source": [
    "#Inversa de la métrica\n",
    "invg = [[0 for i in range(n)] for j in range(n)]\n",
    "for i in range(n):\n",
    "    for j in range(n):\n",
    "        invg[i][j] = ((Matrix(g))**-1)[i,j]\n",
    "\n",
    "display(\n",
    "    Math(  \n",
    "        \"g^{-1} = \" + latex (Matrix(invg))    \n",
    "        )   \n",
    "    )\n"
   ]
  },
  {
   "cell_type": "code",
   "execution_count": 67,
   "metadata": {},
   "outputs": [
    {
     "data": {
      "text/latex": [
       "$\\displaystyle {\\Gamma^2}_{22}=\\frac{\\cos{\\left(\\theta \\right)}}{\\sin{\\left(\\theta \\right)}}$"
      ],
      "text/plain": [
       "<IPython.core.display.Math object>"
      ]
     },
     "metadata": {},
     "output_type": "display_data"
    },
    {
     "data": {
      "text/latex": [
       "$\\displaystyle {\\Gamma^1}_{11}={\\Gamma^1}_{12}={\\Gamma^1}_{21}={\\Gamma^1}_{22}={\\Gamma^2}_{11}={\\Gamma^2}_{12}={\\Gamma^2}_{21}=0$"
      ],
      "text/plain": [
       "<IPython.core.display.Math object>"
      ]
     },
     "metadata": {},
     "output_type": "display_data"
    }
   ],
   "source": [
    "#Christoffel Symbols\n",
    "cs  = [ [[0 for i in range(n)]for j in range(n)] for k in range(n) ]\n",
    "exp = [ [[0 for i in range(n)]for j in range(n)] for k in range(n) ]\n",
    "text = ''\n",
    "for a in range(n):\n",
    "    for b in range(n):\n",
    "        for c in range(n):\n",
    "            for m in range(n):\n",
    "                cs[a][b][c] += 1/2*invg[a][m]*(diff(g[m][b],x[c])+diff(g[c][m],x[b])-diff(g[b][c],x[m]))\n",
    "            \n",
    "            \n",
    "            sup = f\"\\Gamma^{a+1}\"\n",
    "            sub = str(b+1)+str(c+1)\n",
    "            exp[a][b][c] = f\"{{{sup}}}_{{{sub}}}\"\n",
    "            if cs[a][b][c] ==0:                \n",
    "                text += exp[a][b][c] + \"=\"               \n",
    "            else:\n",
    "                display(\n",
    "                    Math(\n",
    "                        exp[a][b][c]+\"=\" + latex(      nsimplify(cs[a][b][c])     ) \n",
    "                        )\n",
    "                    )\n",
    "\n",
    "display(Math(text+\"0\"))"
   ]
  },
  {
   "cell_type": "code",
   "execution_count": 68,
   "metadata": {},
   "outputs": [
    {
     "data": {
      "text/latex": [
       "$\\displaystyle {R^0}_{000}={R^0}_{001}={R^0}_{010}={R^0}_{011}={R^0}_{100}={R^0}_{101}={R^0}_{110}={R^0}_{111}={R^1}_{000}={R^1}_{001}={R^1}_{010}={R^1}_{011}={R^1}_{100}={R^1}_{101}={R^1}_{110}={R^1}_{111}=0$"
      ],
      "text/plain": [
       "<IPython.core.display.Math object>"
      ]
     },
     "metadata": {},
     "output_type": "display_data"
    }
   ],
   "source": [
    "#Riemman tensor \n",
    "R  = [[ [[0 for i in range(n)] for j in range(n)] for k in range(n) ] for l in range(n)]\n",
    "exp_R = [[ [[0 for i in range(n)]for j in range(n)] for k in range(n) ] for l in range(n)]\n",
    "\n",
    "text = ''\n",
    "\n",
    "for a in range(n):\n",
    "    for b in range(n):\n",
    "        for p in range(n):\n",
    "            for q in range(n):\n",
    "                suma = 0\n",
    "                for m in range (n):\n",
    "                    suma += -cs[a][m][q]*cs[m][b][p]+cs[a][m][p]*cs[m][b][q]\n",
    "                \n",
    "                R[a][b][p][q] = diff(cs[a][b][q],x[p])-diff(cs[a][b][p],x[q]) + suma\n",
    "                \n",
    "                sup = f\"R^{a}\"\n",
    "                sub = str(b)+str(p)+str(q)\n",
    "                exp_R[a][b][p][q] = f\"{{{sup}}}_{{{sub}}}\"\n",
    "\n",
    "                if R[a][b][p][q] == 0:                \n",
    "                    text += exp_R[a][b][p][q] + \"=\"               \n",
    "                else:\n",
    "                    display(\n",
    "                        Math(\n",
    "                            exp_R[a][b][p][q] + \"=\" + latex(   nsimplify(R[a][b][p][q])        )  \n",
    "                            )\n",
    "                        )\n",
    "\n",
    "display(Math(text+\"0\"))"
   ]
  },
  {
   "cell_type": "code",
   "execution_count": 69,
   "metadata": {},
   "outputs": [
    {
     "data": {
      "text/latex": [
       "$\\displaystyle {R}_{0000}={R}_{0001}={R}_{0010}={R}_{0011}={R}_{0100}={R}_{0101}={R}_{0110}={R}_{0111}={R}_{1000}={R}_{1001}={R}_{1010}={R}_{1011}={R}_{1100}={R}_{1101}={R}_{1110}={R}_{1111}=0$"
      ],
      "text/plain": [
       "<IPython.core.display.Math object>"
      ]
     },
     "metadata": {},
     "output_type": "display_data"
    }
   ],
   "source": [
    "#Bajamos un índice dele tensor de Riemman\n",
    "R_sub = [[ [[0 for i in range(n)] for j in range(n)] for k in range(n) ] for l in range(n)]\n",
    "exp_R_sub = [[ [[0 for i in range(n)]for j in range(n)] for k in range(n) ] for l in range(n)]\n",
    "text = ''\n",
    "for a in range(n):\n",
    "    for b in range(n):\n",
    "        for p in range(n):\n",
    "            for q in range(n):\n",
    "\n",
    "                for m in range(n):\n",
    "                    R_sub[a][b][p][q]  +=  g[m][a]*R[m][b][p][q] \n",
    "                    \n",
    "                sup = f\"R\"\n",
    "                sub = str(a)+str(b)+str(p)+str(q)\n",
    "                exp_R_sub[a][b][p][q] = f\"{{{sup}}}_{{{sub}}}\"\n",
    "                \n",
    "                if R_sub[a][b][p][q] == 0:                \n",
    "                    text += exp_R_sub[a][b][p][q] + \"=\"               \n",
    "                else:\n",
    "                    display(\n",
    "                        Math(\n",
    "                            exp_R_sub[a][b][p][q]+\"=\"+latex(   nsimplify(R_sub[a][b][p][q])    )\n",
    "                            )\n",
    "                        ) \n",
    "\n",
    "\n",
    "display(Math(text+\"0\"))"
   ]
  },
  {
   "cell_type": "code",
   "execution_count": 70,
   "metadata": {},
   "outputs": [
    {
     "data": {
      "text/latex": [
       "$\\displaystyle {R}_{00}={R}_{01}={R}_{10}={R}_{11}=0$"
      ],
      "text/plain": [
       "<IPython.core.display.Math object>"
      ]
     },
     "metadata": {},
     "output_type": "display_data"
    }
   ],
   "source": [
    "#Tensor de Ricci\n",
    "Ricci = [[0 for i in range(n)] for j in range(n)]\n",
    "exp_Ricci = [[0 for i in range(n)] for j in range(n)]\n",
    "text = ''\n",
    "for a in range(n):\n",
    "    for b in range(n):\n",
    "        \n",
    "        for m in range(n):\n",
    "            Ricci[a][b] += R[m][a][m][b]\n",
    "        \n",
    "        \n",
    "        sup = f\"R\"\n",
    "        sub = str(a)+str(b)\n",
    "        exp_Ricci[a][b] = f\"{{{sup}}}_{{{sub}}}\"\n",
    "                \n",
    "        if Ricci[a][b] == 0:                \n",
    "            text += exp_Ricci[a][b] + \"=\"               \n",
    "        else:\n",
    "            display(Math(exp_Ricci[a][b]+\"=\"+latex(  nsimplify(Ricci[a][b])   )))  \n",
    "\n",
    "display(Math(text+\"0\"))\n"
   ]
  },
  {
   "cell_type": "code",
   "execution_count": 71,
   "metadata": {},
   "outputs": [
    {
     "data": {
      "text/latex": [
       "$\\displaystyle R=0$"
      ],
      "text/plain": [
       "<IPython.core.display.Math object>"
      ]
     },
     "metadata": {},
     "output_type": "display_data"
    }
   ],
   "source": [
    "#RICCI ESCALAR\n",
    "R_escalar = 0\n",
    "\n",
    "for a in range(n):\n",
    "    for b in range(n):\n",
    "        R_escalar += invg[a][b]*Ricci[a][b]\n",
    "\n",
    "display(Math(\"R=\"+latex(nsimplify(R_escalar))))"
   ]
  }
 ],
 "metadata": {
  "kernelspec": {
   "display_name": "Python 3",
   "language": "python",
   "name": "python3"
  },
  "language_info": {
   "codemirror_mode": {
    "name": "ipython",
    "version": 3
   },
   "file_extension": ".py",
   "mimetype": "text/x-python",
   "name": "python",
   "nbconvert_exporter": "python",
   "pygments_lexer": "ipython3",
   "version": "3.11.1"
  },
  "orig_nbformat": 4
 },
 "nbformat": 4,
 "nbformat_minor": 2
}
